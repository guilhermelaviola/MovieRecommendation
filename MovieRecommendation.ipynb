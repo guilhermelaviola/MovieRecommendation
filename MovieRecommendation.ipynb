{
  "nbformat": 4,
  "nbformat_minor": 0,
  "metadata": {
    "colab": {
      "provenance": [],
      "authorship_tag": "ABX9TyPiwvKSEMEolkSXWZWoBaim",
      "include_colab_link": true
    },
    "kernelspec": {
      "name": "python3",
      "display_name": "Python 3"
    },
    "language_info": {
      "name": "python"
    }
  },
  "cells": [
    {
      "cell_type": "markdown",
      "metadata": {
        "id": "view-in-github",
        "colab_type": "text"
      },
      "source": [
        "<a href=\"https://colab.research.google.com/github/guilhermelaviola/MovieRecommendation/blob/main/MovieRecommendation.ipynb\" target=\"_parent\"><img src=\"https://colab.research.google.com/assets/colab-badge.svg\" alt=\"Open In Colab\"/></a>"
      ]
    },
    {
      "cell_type": "code",
      "execution_count": 1,
      "metadata": {
        "id": "5Mn7BIn9JXIF"
      },
      "outputs": [],
      "source": [
        "# Importing all the necessary libraries:\n",
        "import pandas as pd\n",
        "import numpy as np\n",
        "from sklearn.feature_extraction.text import TfidfVectorizer\n",
        "from sklearn.metrics.pairwise import sigmoid_kernel"
      ]
    },
    {
      "cell_type": "code",
      "source": [
        "# Importing the 'credits' and 'movies' datasets:\n",
        "credits = pd.read_csv('tmdb_5000_credits.csv')\n",
        "movies = pd.read_csv('tmdb_5000_movies.csv')"
      ],
      "metadata": {
        "id": "Zp5QX_hVJ3Ur"
      },
      "execution_count": 2,
      "outputs": []
    },
    {
      "cell_type": "code",
      "source": [
        "# Diplaying both datasets:\n",
        "print(credits.head(10))\n",
        "print(movies.head(10))"
      ],
      "metadata": {
        "colab": {
          "base_uri": "https://localhost:8080/"
        },
        "id": "TaOb01_9J_bm",
        "outputId": "672ca817-be7e-4d35-cc75-16e55d2fe022"
      },
      "execution_count": 3,
      "outputs": [
        {
          "output_type": "stream",
          "name": "stdout",
          "text": [
            "   movie_id                                     title  \\\n",
            "0     19995                                    Avatar   \n",
            "1       285  Pirates of the Caribbean: At World's End   \n",
            "2    206647                                   Spectre   \n",
            "3     49026                     The Dark Knight Rises   \n",
            "4     49529                               John Carter   \n",
            "5       559                              Spider-Man 3   \n",
            "6     38757                                   Tangled   \n",
            "7     99861                   Avengers: Age of Ultron   \n",
            "8       767    Harry Potter and the Half-Blood Prince   \n",
            "9    209112        Batman v Superman: Dawn of Justice   \n",
            "\n",
            "                                                cast  \\\n",
            "0  [{\"cast_id\": 242, \"character\": \"Jake Sully\", \"...   \n",
            "1  [{\"cast_id\": 4, \"character\": \"Captain Jack Spa...   \n",
            "2  [{\"cast_id\": 1, \"character\": \"James Bond\", \"cr...   \n",
            "3  [{\"cast_id\": 2, \"character\": \"Bruce Wayne / Ba...   \n",
            "4  [{\"cast_id\": 5, \"character\": \"John Carter\", \"c...   \n",
            "5  [{\"cast_id\": 30, \"character\": \"Peter Parker / ...   \n",
            "6  [{\"cast_id\": 34, \"character\": \"Flynn Rider (vo...   \n",
            "7  [{\"cast_id\": 76, \"character\": \"Tony Stark / Ir...   \n",
            "8  [{\"cast_id\": 3, \"character\": \"Harry Potter\", \"...   \n",
            "9  [{\"cast_id\": 18, \"character\": \"Bruce Wayne / B...   \n",
            "\n",
            "                                                crew  \n",
            "0  [{\"credit_id\": \"52fe48009251416c750aca23\", \"de...  \n",
            "1  [{\"credit_id\": \"52fe4232c3a36847f800b579\", \"de...  \n",
            "2  [{\"credit_id\": \"54805967c3a36829b5002c41\", \"de...  \n",
            "3  [{\"credit_id\": \"52fe4781c3a36847f81398c3\", \"de...  \n",
            "4  [{\"credit_id\": \"52fe479ac3a36847f813eaa3\", \"de...  \n",
            "5  [{\"credit_id\": \"52fe4252c3a36847f80151a5\", \"de...  \n",
            "6  [{\"credit_id\": \"52fe46db9251416c91062101\", \"de...  \n",
            "7  [{\"credit_id\": \"55d5f7d4c3a3683e7e0016eb\", \"de...  \n",
            "8  [{\"credit_id\": \"52fe4273c3a36847f801fab1\", \"de...  \n",
            "9  [{\"credit_id\": \"553bf23692514135c8002886\", \"de...  \n",
            "      budget                                             genres  \\\n",
            "0  237000000  [{\"id\": 28, \"name\": \"Action\"}, {\"id\": 12, \"nam...   \n",
            "1  300000000  [{\"id\": 12, \"name\": \"Adventure\"}, {\"id\": 14, \"...   \n",
            "2  245000000  [{\"id\": 28, \"name\": \"Action\"}, {\"id\": 12, \"nam...   \n",
            "3  250000000  [{\"id\": 28, \"name\": \"Action\"}, {\"id\": 80, \"nam...   \n",
            "4  260000000  [{\"id\": 28, \"name\": \"Action\"}, {\"id\": 12, \"nam...   \n",
            "5  258000000  [{\"id\": 14, \"name\": \"Fantasy\"}, {\"id\": 28, \"na...   \n",
            "6  260000000  [{\"id\": 16, \"name\": \"Animation\"}, {\"id\": 10751...   \n",
            "7  280000000  [{\"id\": 28, \"name\": \"Action\"}, {\"id\": 12, \"nam...   \n",
            "8  250000000  [{\"id\": 12, \"name\": \"Adventure\"}, {\"id\": 14, \"...   \n",
            "9  250000000  [{\"id\": 28, \"name\": \"Action\"}, {\"id\": 12, \"nam...   \n",
            "\n",
            "                                            homepage      id  \\\n",
            "0                        http://www.avatarmovie.com/   19995   \n",
            "1       http://disney.go.com/disneypictures/pirates/     285   \n",
            "2        http://www.sonypictures.com/movies/spectre/  206647   \n",
            "3                 http://www.thedarkknightrises.com/   49026   \n",
            "4               http://movies.disney.com/john-carter   49529   \n",
            "5    http://www.sonypictures.com/movies/spider-man3/     559   \n",
            "6       http://disney.go.com/disneypictures/tangled/   38757   \n",
            "7  http://marvel.com/movies/movie/193/avengers_ag...   99861   \n",
            "8  http://harrypotter.warnerbros.com/harrypottera...     767   \n",
            "9       http://www.batmanvsupermandawnofjustice.com/  209112   \n",
            "\n",
            "                                            keywords original_language  \\\n",
            "0  [{\"id\": 1463, \"name\": \"culture clash\"}, {\"id\":...                en   \n",
            "1  [{\"id\": 270, \"name\": \"ocean\"}, {\"id\": 726, \"na...                en   \n",
            "2  [{\"id\": 470, \"name\": \"spy\"}, {\"id\": 818, \"name...                en   \n",
            "3  [{\"id\": 849, \"name\": \"dc comics\"}, {\"id\": 853,...                en   \n",
            "4  [{\"id\": 818, \"name\": \"based on novel\"}, {\"id\":...                en   \n",
            "5  [{\"id\": 851, \"name\": \"dual identity\"}, {\"id\": ...                en   \n",
            "6  [{\"id\": 1562, \"name\": \"hostage\"}, {\"id\": 2343,...                en   \n",
            "7  [{\"id\": 8828, \"name\": \"marvel comic\"}, {\"id\": ...                en   \n",
            "8  [{\"id\": 616, \"name\": \"witch\"}, {\"id\": 2343, \"n...                en   \n",
            "9  [{\"id\": 849, \"name\": \"dc comics\"}, {\"id\": 7002...                en   \n",
            "\n",
            "                             original_title  \\\n",
            "0                                    Avatar   \n",
            "1  Pirates of the Caribbean: At World's End   \n",
            "2                                   Spectre   \n",
            "3                     The Dark Knight Rises   \n",
            "4                               John Carter   \n",
            "5                              Spider-Man 3   \n",
            "6                                   Tangled   \n",
            "7                   Avengers: Age of Ultron   \n",
            "8    Harry Potter and the Half-Blood Prince   \n",
            "9        Batman v Superman: Dawn of Justice   \n",
            "\n",
            "                                            overview  popularity  \\\n",
            "0  In the 22nd century, a paraplegic Marine is di...  150.437577   \n",
            "1  Captain Barbossa, long believed to be dead, ha...  139.082615   \n",
            "2  A cryptic message from Bond’s past sends him o...  107.376788   \n",
            "3  Following the death of District Attorney Harve...  112.312950   \n",
            "4  John Carter is a war-weary, former military ca...   43.926995   \n",
            "5  The seemingly invincible Spider-Man goes up ag...  115.699814   \n",
            "6  When the kingdom's most wanted-and most charmi...   48.681969   \n",
            "7  When Tony Stark tries to jumpstart a dormant p...  134.279229   \n",
            "8  As Harry begins his sixth year at Hogwarts, he...   98.885637   \n",
            "9  Fearing the actions of a god-like Super Hero l...  155.790452   \n",
            "\n",
            "                                production_companies  \\\n",
            "0  [{\"name\": \"Ingenious Film Partners\", \"id\": 289...   \n",
            "1  [{\"name\": \"Walt Disney Pictures\", \"id\": 2}, {\"...   \n",
            "2  [{\"name\": \"Columbia Pictures\", \"id\": 5}, {\"nam...   \n",
            "3  [{\"name\": \"Legendary Pictures\", \"id\": 923}, {\"...   \n",
            "4        [{\"name\": \"Walt Disney Pictures\", \"id\": 2}]   \n",
            "5  [{\"name\": \"Columbia Pictures\", \"id\": 5}, {\"nam...   \n",
            "6  [{\"name\": \"Walt Disney Pictures\", \"id\": 2}, {\"...   \n",
            "7  [{\"name\": \"Marvel Studios\", \"id\": 420}, {\"name...   \n",
            "8  [{\"name\": \"Warner Bros.\", \"id\": 6194}, {\"name\"...   \n",
            "9  [{\"name\": \"DC Comics\", \"id\": 429}, {\"name\": \"A...   \n",
            "\n",
            "                                production_countries release_date     revenue  \\\n",
            "0  [{\"iso_3166_1\": \"US\", \"name\": \"United States o...   2009-12-10  2787965087   \n",
            "1  [{\"iso_3166_1\": \"US\", \"name\": \"United States o...   2007-05-19   961000000   \n",
            "2  [{\"iso_3166_1\": \"GB\", \"name\": \"United Kingdom\"...   2015-10-26   880674609   \n",
            "3  [{\"iso_3166_1\": \"US\", \"name\": \"United States o...   2012-07-16  1084939099   \n",
            "4  [{\"iso_3166_1\": \"US\", \"name\": \"United States o...   2012-03-07   284139100   \n",
            "5  [{\"iso_3166_1\": \"US\", \"name\": \"United States o...   2007-05-01   890871626   \n",
            "6  [{\"iso_3166_1\": \"US\", \"name\": \"United States o...   2010-11-24   591794936   \n",
            "7  [{\"iso_3166_1\": \"US\", \"name\": \"United States o...   2015-04-22  1405403694   \n",
            "8  [{\"iso_3166_1\": \"GB\", \"name\": \"United Kingdom\"...   2009-07-07   933959197   \n",
            "9  [{\"iso_3166_1\": \"US\", \"name\": \"United States o...   2016-03-23   873260194   \n",
            "\n",
            "   runtime                                   spoken_languages    status  \\\n",
            "0    162.0  [{\"iso_639_1\": \"en\", \"name\": \"English\"}, {\"iso...  Released   \n",
            "1    169.0           [{\"iso_639_1\": \"en\", \"name\": \"English\"}]  Released   \n",
            "2    148.0  [{\"iso_639_1\": \"fr\", \"name\": \"Fran\\u00e7ais\"},...  Released   \n",
            "3    165.0           [{\"iso_639_1\": \"en\", \"name\": \"English\"}]  Released   \n",
            "4    132.0           [{\"iso_639_1\": \"en\", \"name\": \"English\"}]  Released   \n",
            "5    139.0  [{\"iso_639_1\": \"en\", \"name\": \"English\"}, {\"iso...  Released   \n",
            "6    100.0           [{\"iso_639_1\": \"en\", \"name\": \"English\"}]  Released   \n",
            "7    141.0           [{\"iso_639_1\": \"en\", \"name\": \"English\"}]  Released   \n",
            "8    153.0           [{\"iso_639_1\": \"en\", \"name\": \"English\"}]  Released   \n",
            "9    151.0           [{\"iso_639_1\": \"en\", \"name\": \"English\"}]  Released   \n",
            "\n",
            "                                          tagline  \\\n",
            "0                     Enter the World of Pandora.   \n",
            "1  At the end of the world, the adventure begins.   \n",
            "2                           A Plan No One Escapes   \n",
            "3                                 The Legend Ends   \n",
            "4            Lost in our world, found in another.   \n",
            "5                              The battle within.   \n",
            "6        They're taking adventure to new lengths.   \n",
            "7                             A New Age Has Come.   \n",
            "8                           Dark Secrets Revealed   \n",
            "9                              Justice or revenge   \n",
            "\n",
            "                                      title  vote_average  vote_count  \n",
            "0                                    Avatar           7.2       11800  \n",
            "1  Pirates of the Caribbean: At World's End           6.9        4500  \n",
            "2                                   Spectre           6.3        4466  \n",
            "3                     The Dark Knight Rises           7.6        9106  \n",
            "4                               John Carter           6.1        2124  \n",
            "5                              Spider-Man 3           5.9        3576  \n",
            "6                                   Tangled           7.4        3330  \n",
            "7                   Avengers: Age of Ultron           7.3        6767  \n",
            "8    Harry Potter and the Half-Blood Prince           7.4        5293  \n",
            "9        Batman v Superman: Dawn of Justice           5.7        7004  \n"
          ]
        }
      ]
    },
    {
      "cell_type": "code",
      "source": [
        "# Displaying both datasets shapes (table shapes):\n",
        "print('Credits dataframe: ', credits.shape)\n",
        "print('Movies dataframe: ', movies.shape)"
      ],
      "metadata": {
        "colab": {
          "base_uri": "https://localhost:8080/"
        },
        "id": "Ghkh5u9AKs7Q",
        "outputId": "740be7cf-3b7e-473b-82e6-ac963355d274"
      },
      "execution_count": 4,
      "outputs": [
        {
          "output_type": "stream",
          "name": "stdout",
          "text": [
            "Credits dataframe:  (4803, 4)\n",
            "Movies dataframe:  (4803, 20)\n"
          ]
        }
      ]
    },
    {
      "cell_type": "code",
      "source": [
        "credits_column_renamed = credits.rename(index = str,\n",
        "                                        columns = {'movie_id' : 'id'})\n",
        "movies_merge = movies.merge(credits_column_renamed, on = 'id')\n",
        "print(movies_merge.head())"
      ],
      "metadata": {
        "id": "a8_DkZx_LJ5X",
        "outputId": "a65bc5c1-3a23-49e6-a966-a3e781a5948a",
        "colab": {
          "base_uri": "https://localhost:8080/"
        }
      },
      "execution_count": 12,
      "outputs": [
        {
          "output_type": "stream",
          "name": "stdout",
          "text": [
            "      budget                                             genres  \\\n",
            "0  237000000  [{\"id\": 28, \"name\": \"Action\"}, {\"id\": 12, \"nam...   \n",
            "1  300000000  [{\"id\": 12, \"name\": \"Adventure\"}, {\"id\": 14, \"...   \n",
            "2  245000000  [{\"id\": 28, \"name\": \"Action\"}, {\"id\": 12, \"nam...   \n",
            "3  250000000  [{\"id\": 28, \"name\": \"Action\"}, {\"id\": 80, \"nam...   \n",
            "4  260000000  [{\"id\": 28, \"name\": \"Action\"}, {\"id\": 12, \"nam...   \n",
            "\n",
            "                                       homepage      id  \\\n",
            "0                   http://www.avatarmovie.com/   19995   \n",
            "1  http://disney.go.com/disneypictures/pirates/     285   \n",
            "2   http://www.sonypictures.com/movies/spectre/  206647   \n",
            "3            http://www.thedarkknightrises.com/   49026   \n",
            "4          http://movies.disney.com/john-carter   49529   \n",
            "\n",
            "                                            keywords original_language  \\\n",
            "0  [{\"id\": 1463, \"name\": \"culture clash\"}, {\"id\":...                en   \n",
            "1  [{\"id\": 270, \"name\": \"ocean\"}, {\"id\": 726, \"na...                en   \n",
            "2  [{\"id\": 470, \"name\": \"spy\"}, {\"id\": 818, \"name...                en   \n",
            "3  [{\"id\": 849, \"name\": \"dc comics\"}, {\"id\": 853,...                en   \n",
            "4  [{\"id\": 818, \"name\": \"based on novel\"}, {\"id\":...                en   \n",
            "\n",
            "                             original_title  \\\n",
            "0                                    Avatar   \n",
            "1  Pirates of the Caribbean: At World's End   \n",
            "2                                   Spectre   \n",
            "3                     The Dark Knight Rises   \n",
            "4                               John Carter   \n",
            "\n",
            "                                            overview  popularity  \\\n",
            "0  In the 22nd century, a paraplegic Marine is di...  150.437577   \n",
            "1  Captain Barbossa, long believed to be dead, ha...  139.082615   \n",
            "2  A cryptic message from Bond’s past sends him o...  107.376788   \n",
            "3  Following the death of District Attorney Harve...  112.312950   \n",
            "4  John Carter is a war-weary, former military ca...   43.926995   \n",
            "\n",
            "                                production_companies  ... runtime  \\\n",
            "0  [{\"name\": \"Ingenious Film Partners\", \"id\": 289...  ...   162.0   \n",
            "1  [{\"name\": \"Walt Disney Pictures\", \"id\": 2}, {\"...  ...   169.0   \n",
            "2  [{\"name\": \"Columbia Pictures\", \"id\": 5}, {\"nam...  ...   148.0   \n",
            "3  [{\"name\": \"Legendary Pictures\", \"id\": 923}, {\"...  ...   165.0   \n",
            "4        [{\"name\": \"Walt Disney Pictures\", \"id\": 2}]  ...   132.0   \n",
            "\n",
            "                                    spoken_languages    status  \\\n",
            "0  [{\"iso_639_1\": \"en\", \"name\": \"English\"}, {\"iso...  Released   \n",
            "1           [{\"iso_639_1\": \"en\", \"name\": \"English\"}]  Released   \n",
            "2  [{\"iso_639_1\": \"fr\", \"name\": \"Fran\\u00e7ais\"},...  Released   \n",
            "3           [{\"iso_639_1\": \"en\", \"name\": \"English\"}]  Released   \n",
            "4           [{\"iso_639_1\": \"en\", \"name\": \"English\"}]  Released   \n",
            "\n",
            "                                          tagline  \\\n",
            "0                     Enter the World of Pandora.   \n",
            "1  At the end of the world, the adventure begins.   \n",
            "2                           A Plan No One Escapes   \n",
            "3                                 The Legend Ends   \n",
            "4            Lost in our world, found in another.   \n",
            "\n",
            "                                    title_x vote_average vote_count  \\\n",
            "0                                    Avatar          7.2      11800   \n",
            "1  Pirates of the Caribbean: At World's End          6.9       4500   \n",
            "2                                   Spectre          6.3       4466   \n",
            "3                     The Dark Knight Rises          7.6       9106   \n",
            "4                               John Carter          6.1       2124   \n",
            "\n",
            "                                    title_y  \\\n",
            "0                                    Avatar   \n",
            "1  Pirates of the Caribbean: At World's End   \n",
            "2                                   Spectre   \n",
            "3                     The Dark Knight Rises   \n",
            "4                               John Carter   \n",
            "\n",
            "                                                cast  \\\n",
            "0  [{\"cast_id\": 242, \"character\": \"Jake Sully\", \"...   \n",
            "1  [{\"cast_id\": 4, \"character\": \"Captain Jack Spa...   \n",
            "2  [{\"cast_id\": 1, \"character\": \"James Bond\", \"cr...   \n",
            "3  [{\"cast_id\": 2, \"character\": \"Bruce Wayne / Ba...   \n",
            "4  [{\"cast_id\": 5, \"character\": \"John Carter\", \"c...   \n",
            "\n",
            "                                                crew  \n",
            "0  [{\"credit_id\": \"52fe48009251416c750aca23\", \"de...  \n",
            "1  [{\"credit_id\": \"52fe4232c3a36847f800b579\", \"de...  \n",
            "2  [{\"credit_id\": \"54805967c3a36829b5002c41\", \"de...  \n",
            "3  [{\"credit_id\": \"52fe4781c3a36847f81398c3\", \"de...  \n",
            "4  [{\"credit_id\": \"52fe479ac3a36847f813eaa3\", \"de...  \n",
            "\n",
            "[5 rows x 23 columns]\n"
          ]
        }
      ]
    },
    {
      "cell_type": "code",
      "source": [
        "movies_cleaned = movies_merge.drop(columns = ['homepage',\n",
        "                                              'title_x',\n",
        "                                              'title_y',\n",
        "                                              'status',\n",
        "                                              'production_countries'])\n",
        "print(movies_cleaned.head())\n",
        "print(movies_cleaned.info())\n",
        "print(movies_cleaned.head(1)['overview'])"
      ],
      "metadata": {
        "id": "HiFXUNJ7TrSG",
        "outputId": "449d55a0-c83e-4bce-f23b-8999ba498e8f",
        "colab": {
          "base_uri": "https://localhost:8080/"
        }
      },
      "execution_count": 13,
      "outputs": [
        {
          "output_type": "stream",
          "name": "stdout",
          "text": [
            "      budget                                             genres      id  \\\n",
            "0  237000000  [{\"id\": 28, \"name\": \"Action\"}, {\"id\": 12, \"nam...   19995   \n",
            "1  300000000  [{\"id\": 12, \"name\": \"Adventure\"}, {\"id\": 14, \"...     285   \n",
            "2  245000000  [{\"id\": 28, \"name\": \"Action\"}, {\"id\": 12, \"nam...  206647   \n",
            "3  250000000  [{\"id\": 28, \"name\": \"Action\"}, {\"id\": 80, \"nam...   49026   \n",
            "4  260000000  [{\"id\": 28, \"name\": \"Action\"}, {\"id\": 12, \"nam...   49529   \n",
            "\n",
            "                                            keywords original_language  \\\n",
            "0  [{\"id\": 1463, \"name\": \"culture clash\"}, {\"id\":...                en   \n",
            "1  [{\"id\": 270, \"name\": \"ocean\"}, {\"id\": 726, \"na...                en   \n",
            "2  [{\"id\": 470, \"name\": \"spy\"}, {\"id\": 818, \"name...                en   \n",
            "3  [{\"id\": 849, \"name\": \"dc comics\"}, {\"id\": 853,...                en   \n",
            "4  [{\"id\": 818, \"name\": \"based on novel\"}, {\"id\":...                en   \n",
            "\n",
            "                             original_title  \\\n",
            "0                                    Avatar   \n",
            "1  Pirates of the Caribbean: At World's End   \n",
            "2                                   Spectre   \n",
            "3                     The Dark Knight Rises   \n",
            "4                               John Carter   \n",
            "\n",
            "                                            overview  popularity  \\\n",
            "0  In the 22nd century, a paraplegic Marine is di...  150.437577   \n",
            "1  Captain Barbossa, long believed to be dead, ha...  139.082615   \n",
            "2  A cryptic message from Bond’s past sends him o...  107.376788   \n",
            "3  Following the death of District Attorney Harve...  112.312950   \n",
            "4  John Carter is a war-weary, former military ca...   43.926995   \n",
            "\n",
            "                                production_companies release_date     revenue  \\\n",
            "0  [{\"name\": \"Ingenious Film Partners\", \"id\": 289...   2009-12-10  2787965087   \n",
            "1  [{\"name\": \"Walt Disney Pictures\", \"id\": 2}, {\"...   2007-05-19   961000000   \n",
            "2  [{\"name\": \"Columbia Pictures\", \"id\": 5}, {\"nam...   2015-10-26   880674609   \n",
            "3  [{\"name\": \"Legendary Pictures\", \"id\": 923}, {\"...   2012-07-16  1084939099   \n",
            "4        [{\"name\": \"Walt Disney Pictures\", \"id\": 2}]   2012-03-07   284139100   \n",
            "\n",
            "   runtime                                   spoken_languages  \\\n",
            "0    162.0  [{\"iso_639_1\": \"en\", \"name\": \"English\"}, {\"iso...   \n",
            "1    169.0           [{\"iso_639_1\": \"en\", \"name\": \"English\"}]   \n",
            "2    148.0  [{\"iso_639_1\": \"fr\", \"name\": \"Fran\\u00e7ais\"},...   \n",
            "3    165.0           [{\"iso_639_1\": \"en\", \"name\": \"English\"}]   \n",
            "4    132.0           [{\"iso_639_1\": \"en\", \"name\": \"English\"}]   \n",
            "\n",
            "                                          tagline  vote_average  vote_count  \\\n",
            "0                     Enter the World of Pandora.           7.2       11800   \n",
            "1  At the end of the world, the adventure begins.           6.9        4500   \n",
            "2                           A Plan No One Escapes           6.3        4466   \n",
            "3                                 The Legend Ends           7.6        9106   \n",
            "4            Lost in our world, found in another.           6.1        2124   \n",
            "\n",
            "                                                cast  \\\n",
            "0  [{\"cast_id\": 242, \"character\": \"Jake Sully\", \"...   \n",
            "1  [{\"cast_id\": 4, \"character\": \"Captain Jack Spa...   \n",
            "2  [{\"cast_id\": 1, \"character\": \"James Bond\", \"cr...   \n",
            "3  [{\"cast_id\": 2, \"character\": \"Bruce Wayne / Ba...   \n",
            "4  [{\"cast_id\": 5, \"character\": \"John Carter\", \"c...   \n",
            "\n",
            "                                                crew  \n",
            "0  [{\"credit_id\": \"52fe48009251416c750aca23\", \"de...  \n",
            "1  [{\"credit_id\": \"52fe4232c3a36847f800b579\", \"de...  \n",
            "2  [{\"credit_id\": \"54805967c3a36829b5002c41\", \"de...  \n",
            "3  [{\"credit_id\": \"52fe4781c3a36847f81398c3\", \"de...  \n",
            "4  [{\"credit_id\": \"52fe479ac3a36847f813eaa3\", \"de...  \n",
            "<class 'pandas.core.frame.DataFrame'>\n",
            "Int64Index: 4803 entries, 0 to 4802\n",
            "Data columns (total 18 columns):\n",
            " #   Column                Non-Null Count  Dtype  \n",
            "---  ------                --------------  -----  \n",
            " 0   budget                4803 non-null   int64  \n",
            " 1   genres                4803 non-null   object \n",
            " 2   id                    4803 non-null   int64  \n",
            " 3   keywords              4803 non-null   object \n",
            " 4   original_language     4803 non-null   object \n",
            " 5   original_title        4803 non-null   object \n",
            " 6   overview              4800 non-null   object \n",
            " 7   popularity            4803 non-null   float64\n",
            " 8   production_companies  4803 non-null   object \n",
            " 9   release_date          4802 non-null   object \n",
            " 10  revenue               4803 non-null   int64  \n",
            " 11  runtime               4801 non-null   float64\n",
            " 12  spoken_languages      4803 non-null   object \n",
            " 13  tagline               3959 non-null   object \n",
            " 14  vote_average          4803 non-null   float64\n",
            " 15  vote_count            4803 non-null   int64  \n",
            " 16  cast                  4803 non-null   object \n",
            " 17  crew                  4803 non-null   object \n",
            "dtypes: float64(3), int64(4), object(11)\n",
            "memory usage: 712.9+ KB\n",
            "None\n",
            "0    In the 22nd century, a paraplegic Marine is di...\n",
            "Name: overview, dtype: object\n"
          ]
        }
      ]
    },
    {
      "cell_type": "code",
      "source": [
        "tfv = TfidfVectorizer(min_df = 3,\n",
        "                      max_features = None,\n",
        "                      strip_accents = 'unicode',\n",
        "                      analyzer = 'word',\n",
        "                      token_pattern = r'\\w{1,}',\n",
        "                      ngram_range = (1, 3),\n",
        "                      stop_words = 'english')"
      ],
      "metadata": {
        "id": "UCuGOQy4cJve"
      },
      "execution_count": 16,
      "outputs": []
    },
    {
      "cell_type": "code",
      "source": [
        "# Fitting the TF_IDF on the 'overview' text:\n",
        "tfv_matrix = tfv.fit_transform(movies_cleaned['overview'])\n",
        "print(tfv_matrix)\n",
        "print(tfv_matrix.shape)"
      ],
      "metadata": {
        "id": "f4dQxdWwdZz3",
        "outputId": "c685317e-9a92-4526-863e-be67d1252447",
        "colab": {
          "base_uri": "https://localhost:8080/",
          "height": 373
        }
      },
      "execution_count": 17,
      "outputs": [
        {
          "output_type": "error",
          "ename": "ValueError",
          "evalue": "ignored",
          "traceback": [
            "\u001b[0;31m---------------------------------------------------------------------------\u001b[0m",
            "\u001b[0;31mValueError\u001b[0m                                Traceback (most recent call last)",
            "\u001b[0;32m<ipython-input-17-e272dd4bbf26>\u001b[0m in \u001b[0;36m<cell line: 2>\u001b[0;34m()\u001b[0m\n\u001b[1;32m      1\u001b[0m \u001b[0;31m# Fitting the TF_IDF on the 'overview' text:\u001b[0m\u001b[0;34m\u001b[0m\u001b[0;34m\u001b[0m\u001b[0m\n\u001b[0;32m----> 2\u001b[0;31m \u001b[0mtfv_matrix\u001b[0m \u001b[0;34m=\u001b[0m \u001b[0mtfv\u001b[0m\u001b[0;34m.\u001b[0m\u001b[0mfit_transform\u001b[0m\u001b[0;34m(\u001b[0m\u001b[0mmovies_cleaned\u001b[0m\u001b[0;34m[\u001b[0m\u001b[0;34m'overview'\u001b[0m\u001b[0;34m]\u001b[0m\u001b[0;34m)\u001b[0m\u001b[0;34m\u001b[0m\u001b[0;34m\u001b[0m\u001b[0m\n\u001b[0m\u001b[1;32m      3\u001b[0m \u001b[0mprint\u001b[0m\u001b[0;34m(\u001b[0m\u001b[0mtfv_matrix\u001b[0m\u001b[0;34m)\u001b[0m\u001b[0;34m\u001b[0m\u001b[0;34m\u001b[0m\u001b[0m\n\u001b[1;32m      4\u001b[0m \u001b[0mprint\u001b[0m\u001b[0;34m(\u001b[0m\u001b[0mtfv_matrix\u001b[0m\u001b[0;34m.\u001b[0m\u001b[0mshape\u001b[0m\u001b[0;34m)\u001b[0m\u001b[0;34m\u001b[0m\u001b[0;34m\u001b[0m\u001b[0m\n",
            "\u001b[0;32m/usr/local/lib/python3.10/dist-packages/sklearn/feature_extraction/text.py\u001b[0m in \u001b[0;36mfit_transform\u001b[0;34m(self, raw_documents, y)\u001b[0m\n\u001b[1;32m   2131\u001b[0m             \u001b[0msublinear_tf\u001b[0m\u001b[0;34m=\u001b[0m\u001b[0mself\u001b[0m\u001b[0;34m.\u001b[0m\u001b[0msublinear_tf\u001b[0m\u001b[0;34m,\u001b[0m\u001b[0;34m\u001b[0m\u001b[0;34m\u001b[0m\u001b[0m\n\u001b[1;32m   2132\u001b[0m         )\n\u001b[0;32m-> 2133\u001b[0;31m         \u001b[0mX\u001b[0m \u001b[0;34m=\u001b[0m \u001b[0msuper\u001b[0m\u001b[0;34m(\u001b[0m\u001b[0;34m)\u001b[0m\u001b[0;34m.\u001b[0m\u001b[0mfit_transform\u001b[0m\u001b[0;34m(\u001b[0m\u001b[0mraw_documents\u001b[0m\u001b[0;34m)\u001b[0m\u001b[0;34m\u001b[0m\u001b[0;34m\u001b[0m\u001b[0m\n\u001b[0m\u001b[1;32m   2134\u001b[0m         \u001b[0mself\u001b[0m\u001b[0;34m.\u001b[0m\u001b[0m_tfidf\u001b[0m\u001b[0;34m.\u001b[0m\u001b[0mfit\u001b[0m\u001b[0;34m(\u001b[0m\u001b[0mX\u001b[0m\u001b[0;34m)\u001b[0m\u001b[0;34m\u001b[0m\u001b[0;34m\u001b[0m\u001b[0m\n\u001b[1;32m   2135\u001b[0m         \u001b[0;31m# X is already a transformed view of raw_documents so\u001b[0m\u001b[0;34m\u001b[0m\u001b[0;34m\u001b[0m\u001b[0m\n",
            "\u001b[0;32m/usr/local/lib/python3.10/dist-packages/sklearn/feature_extraction/text.py\u001b[0m in \u001b[0;36mfit_transform\u001b[0;34m(self, raw_documents, y)\u001b[0m\n\u001b[1;32m   1386\u001b[0m                     \u001b[0;32mbreak\u001b[0m\u001b[0;34m\u001b[0m\u001b[0;34m\u001b[0m\u001b[0m\n\u001b[1;32m   1387\u001b[0m \u001b[0;34m\u001b[0m\u001b[0m\n\u001b[0;32m-> 1388\u001b[0;31m         \u001b[0mvocabulary\u001b[0m\u001b[0;34m,\u001b[0m \u001b[0mX\u001b[0m \u001b[0;34m=\u001b[0m \u001b[0mself\u001b[0m\u001b[0;34m.\u001b[0m\u001b[0m_count_vocab\u001b[0m\u001b[0;34m(\u001b[0m\u001b[0mraw_documents\u001b[0m\u001b[0;34m,\u001b[0m \u001b[0mself\u001b[0m\u001b[0;34m.\u001b[0m\u001b[0mfixed_vocabulary_\u001b[0m\u001b[0;34m)\u001b[0m\u001b[0;34m\u001b[0m\u001b[0;34m\u001b[0m\u001b[0m\n\u001b[0m\u001b[1;32m   1389\u001b[0m \u001b[0;34m\u001b[0m\u001b[0m\n\u001b[1;32m   1390\u001b[0m         \u001b[0;32mif\u001b[0m \u001b[0mself\u001b[0m\u001b[0;34m.\u001b[0m\u001b[0mbinary\u001b[0m\u001b[0;34m:\u001b[0m\u001b[0;34m\u001b[0m\u001b[0;34m\u001b[0m\u001b[0m\n",
            "\u001b[0;32m/usr/local/lib/python3.10/dist-packages/sklearn/feature_extraction/text.py\u001b[0m in \u001b[0;36m_count_vocab\u001b[0;34m(self, raw_documents, fixed_vocab)\u001b[0m\n\u001b[1;32m   1273\u001b[0m         \u001b[0;32mfor\u001b[0m \u001b[0mdoc\u001b[0m \u001b[0;32min\u001b[0m \u001b[0mraw_documents\u001b[0m\u001b[0;34m:\u001b[0m\u001b[0;34m\u001b[0m\u001b[0;34m\u001b[0m\u001b[0m\n\u001b[1;32m   1274\u001b[0m             \u001b[0mfeature_counter\u001b[0m \u001b[0;34m=\u001b[0m \u001b[0;34m{\u001b[0m\u001b[0;34m}\u001b[0m\u001b[0;34m\u001b[0m\u001b[0;34m\u001b[0m\u001b[0m\n\u001b[0;32m-> 1275\u001b[0;31m             \u001b[0;32mfor\u001b[0m \u001b[0mfeature\u001b[0m \u001b[0;32min\u001b[0m \u001b[0manalyze\u001b[0m\u001b[0;34m(\u001b[0m\u001b[0mdoc\u001b[0m\u001b[0;34m)\u001b[0m\u001b[0;34m:\u001b[0m\u001b[0;34m\u001b[0m\u001b[0;34m\u001b[0m\u001b[0m\n\u001b[0m\u001b[1;32m   1276\u001b[0m                 \u001b[0;32mtry\u001b[0m\u001b[0;34m:\u001b[0m\u001b[0;34m\u001b[0m\u001b[0;34m\u001b[0m\u001b[0m\n\u001b[1;32m   1277\u001b[0m                     \u001b[0mfeature_idx\u001b[0m \u001b[0;34m=\u001b[0m \u001b[0mvocabulary\u001b[0m\u001b[0;34m[\u001b[0m\u001b[0mfeature\u001b[0m\u001b[0;34m]\u001b[0m\u001b[0;34m\u001b[0m\u001b[0;34m\u001b[0m\u001b[0m\n",
            "\u001b[0;32m/usr/local/lib/python3.10/dist-packages/sklearn/feature_extraction/text.py\u001b[0m in \u001b[0;36m_analyze\u001b[0;34m(doc, analyzer, tokenizer, ngrams, preprocessor, decoder, stop_words)\u001b[0m\n\u001b[1;32m    104\u001b[0m \u001b[0;34m\u001b[0m\u001b[0m\n\u001b[1;32m    105\u001b[0m     \u001b[0;32mif\u001b[0m \u001b[0mdecoder\u001b[0m \u001b[0;32mis\u001b[0m \u001b[0;32mnot\u001b[0m \u001b[0;32mNone\u001b[0m\u001b[0;34m:\u001b[0m\u001b[0;34m\u001b[0m\u001b[0;34m\u001b[0m\u001b[0m\n\u001b[0;32m--> 106\u001b[0;31m         \u001b[0mdoc\u001b[0m \u001b[0;34m=\u001b[0m \u001b[0mdecoder\u001b[0m\u001b[0;34m(\u001b[0m\u001b[0mdoc\u001b[0m\u001b[0;34m)\u001b[0m\u001b[0;34m\u001b[0m\u001b[0;34m\u001b[0m\u001b[0m\n\u001b[0m\u001b[1;32m    107\u001b[0m     \u001b[0;32mif\u001b[0m \u001b[0manalyzer\u001b[0m \u001b[0;32mis\u001b[0m \u001b[0;32mnot\u001b[0m \u001b[0;32mNone\u001b[0m\u001b[0;34m:\u001b[0m\u001b[0;34m\u001b[0m\u001b[0;34m\u001b[0m\u001b[0m\n\u001b[1;32m    108\u001b[0m         \u001b[0mdoc\u001b[0m \u001b[0;34m=\u001b[0m \u001b[0manalyzer\u001b[0m\u001b[0;34m(\u001b[0m\u001b[0mdoc\u001b[0m\u001b[0;34m)\u001b[0m\u001b[0;34m\u001b[0m\u001b[0;34m\u001b[0m\u001b[0m\n",
            "\u001b[0;32m/usr/local/lib/python3.10/dist-packages/sklearn/feature_extraction/text.py\u001b[0m in \u001b[0;36mdecode\u001b[0;34m(self, doc)\u001b[0m\n\u001b[1;32m    237\u001b[0m \u001b[0;34m\u001b[0m\u001b[0m\n\u001b[1;32m    238\u001b[0m         \u001b[0;32mif\u001b[0m \u001b[0mdoc\u001b[0m \u001b[0;32mis\u001b[0m \u001b[0mnp\u001b[0m\u001b[0;34m.\u001b[0m\u001b[0mnan\u001b[0m\u001b[0;34m:\u001b[0m\u001b[0;34m\u001b[0m\u001b[0;34m\u001b[0m\u001b[0m\n\u001b[0;32m--> 239\u001b[0;31m             raise ValueError(\n\u001b[0m\u001b[1;32m    240\u001b[0m                 \u001b[0;34m\"np.nan is an invalid document, expected byte or unicode string.\"\u001b[0m\u001b[0;34m\u001b[0m\u001b[0;34m\u001b[0m\u001b[0m\n\u001b[1;32m    241\u001b[0m             )\n",
            "\u001b[0;31mValueError\u001b[0m: np.nan is an invalid document, expected byte or unicode string."
          ]
        }
      ]
    },
    {
      "cell_type": "code",
      "source": [
        "# Computing the Sigmoid Kernel\n",
        "sigmoid = sigmoid_kernel(tfv_matrix, tfv_matrix)\n",
        "print(sigmoid[0])"
      ],
      "metadata": {
        "id": "BNSLLlx-eL_p",
        "outputId": "53aacb06-ced7-4c02-a06a-231ca311cfb8",
        "colab": {
          "base_uri": "https://localhost:8080/",
          "height": 210
        }
      },
      "execution_count": 20,
      "outputs": [
        {
          "output_type": "error",
          "ename": "NameError",
          "evalue": "ignored",
          "traceback": [
            "\u001b[0;31m---------------------------------------------------------------------------\u001b[0m",
            "\u001b[0;31mNameError\u001b[0m                                 Traceback (most recent call last)",
            "\u001b[0;32m<ipython-input-20-a97887533351>\u001b[0m in \u001b[0;36m<cell line: 2>\u001b[0;34m()\u001b[0m\n\u001b[1;32m      1\u001b[0m \u001b[0;31m# Computing the Sigmoid Kernel\u001b[0m\u001b[0;34m\u001b[0m\u001b[0;34m\u001b[0m\u001b[0m\n\u001b[0;32m----> 2\u001b[0;31m \u001b[0msigmoid\u001b[0m \u001b[0;34m=\u001b[0m \u001b[0msigmoid_kernel\u001b[0m\u001b[0;34m(\u001b[0m\u001b[0mtfv_matrix\u001b[0m\u001b[0;34m,\u001b[0m \u001b[0mtfv_matrix\u001b[0m\u001b[0;34m)\u001b[0m\u001b[0;34m\u001b[0m\u001b[0;34m\u001b[0m\u001b[0m\n\u001b[0m\u001b[1;32m      3\u001b[0m \u001b[0mprint\u001b[0m\u001b[0;34m(\u001b[0m\u001b[0msigmoid\u001b[0m\u001b[0;34m[\u001b[0m\u001b[0;36m0\u001b[0m\u001b[0;34m]\u001b[0m\u001b[0;34m)\u001b[0m\u001b[0;34m\u001b[0m\u001b[0;34m\u001b[0m\u001b[0m\n",
            "\u001b[0;31mNameError\u001b[0m: name 'tfv_matrix' is not defined"
          ]
        }
      ]
    },
    {
      "cell_type": "code",
      "source": [
        "# Reverse mapping of indexes and movie titles:\n",
        "indexes = pd.Series(movies_cleaned.index,\n",
        "                    index = movies_cleaned['original_title']).drop_duplicates()\n",
        "print(indexes)\n",
        "print(indexes['Newlyweds'])\n",
        "print(sig[4799])\n",
        "print(list(enumerate(sig[indexes['Newlyweds']])))\n",
        "print(sorted(list(enumerate(sig[indexes['Newlyweds']])),\n",
        "             key = lambda x : x[1], reverse = True))"
      ],
      "metadata": {
        "id": "OGjHciiUVb_o",
        "outputId": "0e7498ad-184f-4256-be39-de649def5a82",
        "colab": {
          "base_uri": "https://localhost:8080/",
          "height": 488
        }
      },
      "execution_count": 21,
      "outputs": [
        {
          "output_type": "stream",
          "name": "stdout",
          "text": [
            "original_title\n",
            "Avatar                                         0\n",
            "Pirates of the Caribbean: At World's End       1\n",
            "Spectre                                        2\n",
            "The Dark Knight Rises                          3\n",
            "John Carter                                    4\n",
            "                                            ... \n",
            "El Mariachi                                 4798\n",
            "Newlyweds                                   4799\n",
            "Signed, Sealed, Delivered                   4800\n",
            "Shanghai Calling                            4801\n",
            "My Date with Drew                           4802\n",
            "Length: 4803, dtype: int64\n",
            "4799\n"
          ]
        },
        {
          "output_type": "error",
          "ename": "NameError",
          "evalue": "ignored",
          "traceback": [
            "\u001b[0;31m---------------------------------------------------------------------------\u001b[0m",
            "\u001b[0;31mNameError\u001b[0m                                 Traceback (most recent call last)",
            "\u001b[0;32m<ipython-input-21-8603ebfa2089>\u001b[0m in \u001b[0;36m<cell line: 6>\u001b[0;34m()\u001b[0m\n\u001b[1;32m      4\u001b[0m \u001b[0mprint\u001b[0m\u001b[0;34m(\u001b[0m\u001b[0mindexes\u001b[0m\u001b[0;34m)\u001b[0m\u001b[0;34m\u001b[0m\u001b[0;34m\u001b[0m\u001b[0m\n\u001b[1;32m      5\u001b[0m \u001b[0mprint\u001b[0m\u001b[0;34m(\u001b[0m\u001b[0mindexes\u001b[0m\u001b[0;34m[\u001b[0m\u001b[0;34m'Newlyweds'\u001b[0m\u001b[0;34m]\u001b[0m\u001b[0;34m)\u001b[0m\u001b[0;34m\u001b[0m\u001b[0;34m\u001b[0m\u001b[0m\n\u001b[0;32m----> 6\u001b[0;31m \u001b[0mprint\u001b[0m\u001b[0;34m(\u001b[0m\u001b[0msig\u001b[0m\u001b[0;34m[\u001b[0m\u001b[0;36m4799\u001b[0m\u001b[0;34m]\u001b[0m\u001b[0;34m)\u001b[0m\u001b[0;34m\u001b[0m\u001b[0;34m\u001b[0m\u001b[0m\n\u001b[0m\u001b[1;32m      7\u001b[0m \u001b[0mprint\u001b[0m\u001b[0;34m(\u001b[0m\u001b[0mlist\u001b[0m\u001b[0;34m(\u001b[0m\u001b[0menumerate\u001b[0m\u001b[0;34m(\u001b[0m\u001b[0msig\u001b[0m\u001b[0;34m[\u001b[0m\u001b[0mindexes\u001b[0m\u001b[0;34m[\u001b[0m\u001b[0;34m'Newlyweds'\u001b[0m\u001b[0;34m]\u001b[0m\u001b[0;34m]\u001b[0m\u001b[0;34m)\u001b[0m\u001b[0;34m)\u001b[0m\u001b[0;34m)\u001b[0m\u001b[0;34m\u001b[0m\u001b[0;34m\u001b[0m\u001b[0m\n\u001b[1;32m      8\u001b[0m print(sorted(list(enumerate(sig[indexes['Newlyweds']])),\n",
            "\u001b[0;31mNameError\u001b[0m: name 'sig' is not defined"
          ]
        }
      ]
    },
    {
      "cell_type": "code",
      "source": [
        "def give_recommendations(title, sigmoid = sigmoid):\n",
        "  # Getting the index corresponding to original_title:\n",
        "  index = indexes[title]\n",
        "\n",
        "  # Getting the pairwise similarity scores:\n",
        "  sigmoid_scores = list(enumerate(sigmoid[index]))\n",
        "\n",
        "  # Sorting the movies:\n",
        "  sigmoid_scores = sorted(sigmoid_scores, key = lambda x : x[1], reverse = True)\n",
        "\n",
        "  # Scores of the 10 most similar movies:\n",
        "  sigmoid_scores = sigmoid_scores[1:11]\n",
        "\n",
        "  # Movie indexes:\n",
        "  movie_indexes = [i[0] for i in sigmoid_scores]\n",
        "\n",
        "  # Top 10 most similar movies:\n",
        "  return movies_cleaned['original_title'].iloc[movie_indexes]"
      ],
      "metadata": {
        "id": "T8XOzaTyXJTH"
      },
      "execution_count": null,
      "outputs": []
    }
  ]
}