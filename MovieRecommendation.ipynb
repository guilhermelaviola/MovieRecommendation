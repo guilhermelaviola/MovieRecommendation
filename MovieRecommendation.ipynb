{
  "nbformat": 4,
  "nbformat_minor": 0,
  "metadata": {
    "colab": {
      "provenance": [],
      "authorship_tag": "ABX9TyPYLQv2MCaXOwwiECgJkxg2",
      "include_colab_link": true
    },
    "kernelspec": {
      "name": "python3",
      "display_name": "Python 3"
    },
    "language_info": {
      "name": "python"
    }
  },
  "cells": [
    {
      "cell_type": "markdown",
      "metadata": {
        "id": "view-in-github",
        "colab_type": "text"
      },
      "source": [
        "<a href=\"https://colab.research.google.com/github/guilhermelaviola/MovieRecommendation/blob/main/MovieRecommendation.ipynb\" target=\"_parent\"><img src=\"https://colab.research.google.com/assets/colab-badge.svg\" alt=\"Open In Colab\"/></a>"
      ]
    },
    {
      "cell_type": "code",
      "execution_count": 1,
      "metadata": {
        "id": "5Mn7BIn9JXIF"
      },
      "outputs": [],
      "source": [
        "# Importing all the necessary libraries:\n",
        "import pandas as pd\n",
        "import numpy as np\n",
        "from sklearn.feature_extraction.text import TfidfVectorizer\n",
        "from sklearn.metrics.pairwise import sigmoid_kernel"
      ]
    },
    {
      "cell_type": "code",
      "source": [
        "# Importing the 'credits' and 'movies' datasets:\n",
        "credits = pd.read_csv('tmdb_5000_credits.csv')\n",
        "movies = pd.read_csv('tmdb_5000_movies.csv')"
      ],
      "metadata": {
        "id": "Zp5QX_hVJ3Ur"
      },
      "execution_count": 3,
      "outputs": []
    },
    {
      "cell_type": "code",
      "source": [
        "# Displaying credits table shape and dataset:\n",
        "print('Credits dataframe: ', credits.shape)\n",
        "print(credits.head(10))"
      ],
      "metadata": {
        "colab": {
          "base_uri": "https://localhost:8080/"
        },
        "id": "TaOb01_9J_bm",
        "outputId": "bfe3f8a5-c73f-4176-dfd6-43b2c8ea8518"
      },
      "execution_count": 11,
      "outputs": [
        {
          "output_type": "stream",
          "name": "stdout",
          "text": [
            "Credits dataframe:  (1154, 4)\n",
            "   movie_id                                     title  \\\n",
            "0     19995                                    Avatar   \n",
            "1       285  Pirates of the Caribbean: At World's End   \n",
            "2    206647                                   Spectre   \n",
            "3     49026                     The Dark Knight Rises   \n",
            "4     49529                               John Carter   \n",
            "5       559                              Spider-Man 3   \n",
            "6     38757                                   Tangled   \n",
            "7     99861                   Avengers: Age of Ultron   \n",
            "8       767    Harry Potter and the Half-Blood Prince   \n",
            "9    209112        Batman v Superman: Dawn of Justice   \n",
            "\n",
            "                                                cast  \\\n",
            "0  [{\"cast_id\": 242, \"character\": \"Jake Sully\", \"...   \n",
            "1  [{\"cast_id\": 4, \"character\": \"Captain Jack Spa...   \n",
            "2  [{\"cast_id\": 1, \"character\": \"James Bond\", \"cr...   \n",
            "3  [{\"cast_id\": 2, \"character\": \"Bruce Wayne / Ba...   \n",
            "4  [{\"cast_id\": 5, \"character\": \"John Carter\", \"c...   \n",
            "5  [{\"cast_id\": 30, \"character\": \"Peter Parker / ...   \n",
            "6  [{\"cast_id\": 34, \"character\": \"Flynn Rider (vo...   \n",
            "7  [{\"cast_id\": 76, \"character\": \"Tony Stark / Ir...   \n",
            "8  [{\"cast_id\": 3, \"character\": \"Harry Potter\", \"...   \n",
            "9  [{\"cast_id\": 18, \"character\": \"Bruce Wayne / B...   \n",
            "\n",
            "                                                crew  \n",
            "0  [{\"credit_id\": \"52fe48009251416c750aca23\", \"de...  \n",
            "1  [{\"credit_id\": \"52fe4232c3a36847f800b579\", \"de...  \n",
            "2  [{\"credit_id\": \"54805967c3a36829b5002c41\", \"de...  \n",
            "3  [{\"credit_id\": \"52fe4781c3a36847f81398c3\", \"de...  \n",
            "4  [{\"credit_id\": \"52fe479ac3a36847f813eaa3\", \"de...  \n",
            "5  [{\"credit_id\": \"52fe4252c3a36847f80151a5\", \"de...  \n",
            "6  [{\"credit_id\": \"52fe46db9251416c91062101\", \"de...  \n",
            "7  [{\"credit_id\": \"55d5f7d4c3a3683e7e0016eb\", \"de...  \n",
            "8  [{\"credit_id\": \"52fe4273c3a36847f801fab1\", \"de...  \n",
            "9  [{\"credit_id\": \"553bf23692514135c8002886\", \"de...  \n"
          ]
        }
      ]
    },
    {
      "cell_type": "code",
      "source": [
        "# Displaying movies table shape and dataset:\n",
        "print('Movies dataframe: ', movies.shape)\n",
        "print(movies.head(10))"
      ],
      "metadata": {
        "id": "mEeYhWrqN19G",
        "outputId": "1827924e-adf7-4f01-be74-a9937abdac81",
        "colab": {
          "base_uri": "https://localhost:8080/"
        }
      },
      "execution_count": 12,
      "outputs": [
        {
          "output_type": "stream",
          "name": "stdout",
          "text": [
            "Movies dataframe:  (4803, 20)\n",
            "      budget                                             genres  \\\n",
            "0  237000000  [{\"id\": 28, \"name\": \"Action\"}, {\"id\": 12, \"nam...   \n",
            "1  300000000  [{\"id\": 12, \"name\": \"Adventure\"}, {\"id\": 14, \"...   \n",
            "2  245000000  [{\"id\": 28, \"name\": \"Action\"}, {\"id\": 12, \"nam...   \n",
            "3  250000000  [{\"id\": 28, \"name\": \"Action\"}, {\"id\": 80, \"nam...   \n",
            "4  260000000  [{\"id\": 28, \"name\": \"Action\"}, {\"id\": 12, \"nam...   \n",
            "5  258000000  [{\"id\": 14, \"name\": \"Fantasy\"}, {\"id\": 28, \"na...   \n",
            "6  260000000  [{\"id\": 16, \"name\": \"Animation\"}, {\"id\": 10751...   \n",
            "7  280000000  [{\"id\": 28, \"name\": \"Action\"}, {\"id\": 12, \"nam...   \n",
            "8  250000000  [{\"id\": 12, \"name\": \"Adventure\"}, {\"id\": 14, \"...   \n",
            "9  250000000  [{\"id\": 28, \"name\": \"Action\"}, {\"id\": 12, \"nam...   \n",
            "\n",
            "                                            homepage      id  \\\n",
            "0                        http://www.avatarmovie.com/   19995   \n",
            "1       http://disney.go.com/disneypictures/pirates/     285   \n",
            "2        http://www.sonypictures.com/movies/spectre/  206647   \n",
            "3                 http://www.thedarkknightrises.com/   49026   \n",
            "4               http://movies.disney.com/john-carter   49529   \n",
            "5    http://www.sonypictures.com/movies/spider-man3/     559   \n",
            "6       http://disney.go.com/disneypictures/tangled/   38757   \n",
            "7  http://marvel.com/movies/movie/193/avengers_ag...   99861   \n",
            "8  http://harrypotter.warnerbros.com/harrypottera...     767   \n",
            "9       http://www.batmanvsupermandawnofjustice.com/  209112   \n",
            "\n",
            "                                            keywords original_language  \\\n",
            "0  [{\"id\": 1463, \"name\": \"culture clash\"}, {\"id\":...                en   \n",
            "1  [{\"id\": 270, \"name\": \"ocean\"}, {\"id\": 726, \"na...                en   \n",
            "2  [{\"id\": 470, \"name\": \"spy\"}, {\"id\": 818, \"name...                en   \n",
            "3  [{\"id\": 849, \"name\": \"dc comics\"}, {\"id\": 853,...                en   \n",
            "4  [{\"id\": 818, \"name\": \"based on novel\"}, {\"id\":...                en   \n",
            "5  [{\"id\": 851, \"name\": \"dual identity\"}, {\"id\": ...                en   \n",
            "6  [{\"id\": 1562, \"name\": \"hostage\"}, {\"id\": 2343,...                en   \n",
            "7  [{\"id\": 8828, \"name\": \"marvel comic\"}, {\"id\": ...                en   \n",
            "8  [{\"id\": 616, \"name\": \"witch\"}, {\"id\": 2343, \"n...                en   \n",
            "9  [{\"id\": 849, \"name\": \"dc comics\"}, {\"id\": 7002...                en   \n",
            "\n",
            "                             original_title  \\\n",
            "0                                    Avatar   \n",
            "1  Pirates of the Caribbean: At World's End   \n",
            "2                                   Spectre   \n",
            "3                     The Dark Knight Rises   \n",
            "4                               John Carter   \n",
            "5                              Spider-Man 3   \n",
            "6                                   Tangled   \n",
            "7                   Avengers: Age of Ultron   \n",
            "8    Harry Potter and the Half-Blood Prince   \n",
            "9        Batman v Superman: Dawn of Justice   \n",
            "\n",
            "                                            overview  popularity  \\\n",
            "0  In the 22nd century, a paraplegic Marine is di...  150.437577   \n",
            "1  Captain Barbossa, long believed to be dead, ha...  139.082615   \n",
            "2  A cryptic message from Bond’s past sends him o...  107.376788   \n",
            "3  Following the death of District Attorney Harve...  112.312950   \n",
            "4  John Carter is a war-weary, former military ca...   43.926995   \n",
            "5  The seemingly invincible Spider-Man goes up ag...  115.699814   \n",
            "6  When the kingdom's most wanted-and most charmi...   48.681969   \n",
            "7  When Tony Stark tries to jumpstart a dormant p...  134.279229   \n",
            "8  As Harry begins his sixth year at Hogwarts, he...   98.885637   \n",
            "9  Fearing the actions of a god-like Super Hero l...  155.790452   \n",
            "\n",
            "                                production_companies  \\\n",
            "0  [{\"name\": \"Ingenious Film Partners\", \"id\": 289...   \n",
            "1  [{\"name\": \"Walt Disney Pictures\", \"id\": 2}, {\"...   \n",
            "2  [{\"name\": \"Columbia Pictures\", \"id\": 5}, {\"nam...   \n",
            "3  [{\"name\": \"Legendary Pictures\", \"id\": 923}, {\"...   \n",
            "4        [{\"name\": \"Walt Disney Pictures\", \"id\": 2}]   \n",
            "5  [{\"name\": \"Columbia Pictures\", \"id\": 5}, {\"nam...   \n",
            "6  [{\"name\": \"Walt Disney Pictures\", \"id\": 2}, {\"...   \n",
            "7  [{\"name\": \"Marvel Studios\", \"id\": 420}, {\"name...   \n",
            "8  [{\"name\": \"Warner Bros.\", \"id\": 6194}, {\"name\"...   \n",
            "9  [{\"name\": \"DC Comics\", \"id\": 429}, {\"name\": \"A...   \n",
            "\n",
            "                                production_countries release_date     revenue  \\\n",
            "0  [{\"iso_3166_1\": \"US\", \"name\": \"United States o...   2009-12-10  2787965087   \n",
            "1  [{\"iso_3166_1\": \"US\", \"name\": \"United States o...   2007-05-19   961000000   \n",
            "2  [{\"iso_3166_1\": \"GB\", \"name\": \"United Kingdom\"...   2015-10-26   880674609   \n",
            "3  [{\"iso_3166_1\": \"US\", \"name\": \"United States o...   2012-07-16  1084939099   \n",
            "4  [{\"iso_3166_1\": \"US\", \"name\": \"United States o...   2012-03-07   284139100   \n",
            "5  [{\"iso_3166_1\": \"US\", \"name\": \"United States o...   2007-05-01   890871626   \n",
            "6  [{\"iso_3166_1\": \"US\", \"name\": \"United States o...   2010-11-24   591794936   \n",
            "7  [{\"iso_3166_1\": \"US\", \"name\": \"United States o...   2015-04-22  1405403694   \n",
            "8  [{\"iso_3166_1\": \"GB\", \"name\": \"United Kingdom\"...   2009-07-07   933959197   \n",
            "9  [{\"iso_3166_1\": \"US\", \"name\": \"United States o...   2016-03-23   873260194   \n",
            "\n",
            "   runtime                                   spoken_languages    status  \\\n",
            "0    162.0  [{\"iso_639_1\": \"en\", \"name\": \"English\"}, {\"iso...  Released   \n",
            "1    169.0           [{\"iso_639_1\": \"en\", \"name\": \"English\"}]  Released   \n",
            "2    148.0  [{\"iso_639_1\": \"fr\", \"name\": \"Fran\\u00e7ais\"},...  Released   \n",
            "3    165.0           [{\"iso_639_1\": \"en\", \"name\": \"English\"}]  Released   \n",
            "4    132.0           [{\"iso_639_1\": \"en\", \"name\": \"English\"}]  Released   \n",
            "5    139.0  [{\"iso_639_1\": \"en\", \"name\": \"English\"}, {\"iso...  Released   \n",
            "6    100.0           [{\"iso_639_1\": \"en\", \"name\": \"English\"}]  Released   \n",
            "7    141.0           [{\"iso_639_1\": \"en\", \"name\": \"English\"}]  Released   \n",
            "8    153.0           [{\"iso_639_1\": \"en\", \"name\": \"English\"}]  Released   \n",
            "9    151.0           [{\"iso_639_1\": \"en\", \"name\": \"English\"}]  Released   \n",
            "\n",
            "                                          tagline  \\\n",
            "0                     Enter the World of Pandora.   \n",
            "1  At the end of the world, the adventure begins.   \n",
            "2                           A Plan No One Escapes   \n",
            "3                                 The Legend Ends   \n",
            "4            Lost in our world, found in another.   \n",
            "5                              The battle within.   \n",
            "6        They're taking adventure to new lengths.   \n",
            "7                             A New Age Has Come.   \n",
            "8                           Dark Secrets Revealed   \n",
            "9                              Justice or revenge   \n",
            "\n",
            "                                      title  vote_average  vote_count  \n",
            "0                                    Avatar           7.2       11800  \n",
            "1  Pirates of the Caribbean: At World's End           6.9        4500  \n",
            "2                                   Spectre           6.3        4466  \n",
            "3                     The Dark Knight Rises           7.6        9106  \n",
            "4                               John Carter           6.1        2124  \n",
            "5                              Spider-Man 3           5.9        3576  \n",
            "6                                   Tangled           7.4        3330  \n",
            "7                   Avengers: Age of Ultron           7.3        6767  \n",
            "8    Harry Potter and the Half-Blood Prince           7.4        5293  \n",
            "9        Batman v Superman: Dawn of Justice           5.7        7004  \n"
          ]
        }
      ]
    },
    {
      "cell_type": "code",
      "source": [
        "# Creating a 'credits_column_renamed' table based on the 'credits' table, with the column\n",
        "# 'movie_id' renamed as 'id':\n",
        "credits_column_renamed = credits.rename(index = str, columns = {'movie_id' : 'id'})"
      ],
      "metadata": {
        "id": "a8_DkZx_LJ5X"
      },
      "execution_count": 22,
      "outputs": []
    },
    {
      "cell_type": "code",
      "source": [
        "# Merging 'movies' and 'credits_column_renamed' datasets and\n",
        "# displaying their shape and first 10 entries:\n",
        "movies_merge = movies.merge(credits_column_renamed, on = 'id')\n",
        "print('movies_merge dataframe:', movies_merge.shape)\n",
        "print(movies_merge.head())"
      ],
      "metadata": {
        "id": "R2kyJXvdSHJw",
        "outputId": "341d7556-8e6e-4cc0-d7da-50cd6f7e43b7",
        "colab": {
          "base_uri": "https://localhost:8080/"
        }
      },
      "execution_count": 29,
      "outputs": [
        {
          "output_type": "stream",
          "name": "stdout",
          "text": [
            "movies_merge dataframe: (1154, 23)\n",
            "      budget                                             genres  \\\n",
            "0  237000000  [{\"id\": 28, \"name\": \"Action\"}, {\"id\": 12, \"nam...   \n",
            "1  300000000  [{\"id\": 12, \"name\": \"Adventure\"}, {\"id\": 14, \"...   \n",
            "2  245000000  [{\"id\": 28, \"name\": \"Action\"}, {\"id\": 12, \"nam...   \n",
            "3  250000000  [{\"id\": 28, \"name\": \"Action\"}, {\"id\": 80, \"nam...   \n",
            "4  260000000  [{\"id\": 28, \"name\": \"Action\"}, {\"id\": 12, \"nam...   \n",
            "\n",
            "                                       homepage      id  \\\n",
            "0                   http://www.avatarmovie.com/   19995   \n",
            "1  http://disney.go.com/disneypictures/pirates/     285   \n",
            "2   http://www.sonypictures.com/movies/spectre/  206647   \n",
            "3            http://www.thedarkknightrises.com/   49026   \n",
            "4          http://movies.disney.com/john-carter   49529   \n",
            "\n",
            "                                            keywords original_language  \\\n",
            "0  [{\"id\": 1463, \"name\": \"culture clash\"}, {\"id\":...                en   \n",
            "1  [{\"id\": 270, \"name\": \"ocean\"}, {\"id\": 726, \"na...                en   \n",
            "2  [{\"id\": 470, \"name\": \"spy\"}, {\"id\": 818, \"name...                en   \n",
            "3  [{\"id\": 849, \"name\": \"dc comics\"}, {\"id\": 853,...                en   \n",
            "4  [{\"id\": 818, \"name\": \"based on novel\"}, {\"id\":...                en   \n",
            "\n",
            "                             original_title  \\\n",
            "0                                    Avatar   \n",
            "1  Pirates of the Caribbean: At World's End   \n",
            "2                                   Spectre   \n",
            "3                     The Dark Knight Rises   \n",
            "4                               John Carter   \n",
            "\n",
            "                                            overview  popularity  \\\n",
            "0  In the 22nd century, a paraplegic Marine is di...  150.437577   \n",
            "1  Captain Barbossa, long believed to be dead, ha...  139.082615   \n",
            "2  A cryptic message from Bond’s past sends him o...  107.376788   \n",
            "3  Following the death of District Attorney Harve...  112.312950   \n",
            "4  John Carter is a war-weary, former military ca...   43.926995   \n",
            "\n",
            "                                production_companies  ... runtime  \\\n",
            "0  [{\"name\": \"Ingenious Film Partners\", \"id\": 289...  ...   162.0   \n",
            "1  [{\"name\": \"Walt Disney Pictures\", \"id\": 2}, {\"...  ...   169.0   \n",
            "2  [{\"name\": \"Columbia Pictures\", \"id\": 5}, {\"nam...  ...   148.0   \n",
            "3  [{\"name\": \"Legendary Pictures\", \"id\": 923}, {\"...  ...   165.0   \n",
            "4        [{\"name\": \"Walt Disney Pictures\", \"id\": 2}]  ...   132.0   \n",
            "\n",
            "                                    spoken_languages    status  \\\n",
            "0  [{\"iso_639_1\": \"en\", \"name\": \"English\"}, {\"iso...  Released   \n",
            "1           [{\"iso_639_1\": \"en\", \"name\": \"English\"}]  Released   \n",
            "2  [{\"iso_639_1\": \"fr\", \"name\": \"Fran\\u00e7ais\"},...  Released   \n",
            "3           [{\"iso_639_1\": \"en\", \"name\": \"English\"}]  Released   \n",
            "4           [{\"iso_639_1\": \"en\", \"name\": \"English\"}]  Released   \n",
            "\n",
            "                                          tagline  \\\n",
            "0                     Enter the World of Pandora.   \n",
            "1  At the end of the world, the adventure begins.   \n",
            "2                           A Plan No One Escapes   \n",
            "3                                 The Legend Ends   \n",
            "4            Lost in our world, found in another.   \n",
            "\n",
            "                                    title_x vote_average vote_count  \\\n",
            "0                                    Avatar          7.2      11800   \n",
            "1  Pirates of the Caribbean: At World's End          6.9       4500   \n",
            "2                                   Spectre          6.3       4466   \n",
            "3                     The Dark Knight Rises          7.6       9106   \n",
            "4                               John Carter          6.1       2124   \n",
            "\n",
            "                                    title_y  \\\n",
            "0                                    Avatar   \n",
            "1  Pirates of the Caribbean: At World's End   \n",
            "2                                   Spectre   \n",
            "3                     The Dark Knight Rises   \n",
            "4                               John Carter   \n",
            "\n",
            "                                                cast  \\\n",
            "0  [{\"cast_id\": 242, \"character\": \"Jake Sully\", \"...   \n",
            "1  [{\"cast_id\": 4, \"character\": \"Captain Jack Spa...   \n",
            "2  [{\"cast_id\": 1, \"character\": \"James Bond\", \"cr...   \n",
            "3  [{\"cast_id\": 2, \"character\": \"Bruce Wayne / Ba...   \n",
            "4  [{\"cast_id\": 5, \"character\": \"John Carter\", \"c...   \n",
            "\n",
            "                                                crew  \n",
            "0  [{\"credit_id\": \"52fe48009251416c750aca23\", \"de...  \n",
            "1  [{\"credit_id\": \"52fe4232c3a36847f800b579\", \"de...  \n",
            "2  [{\"credit_id\": \"54805967c3a36829b5002c41\", \"de...  \n",
            "3  [{\"credit_id\": \"52fe4781c3a36847f81398c3\", \"de...  \n",
            "4  [{\"credit_id\": \"52fe479ac3a36847f813eaa3\", \"de...  \n",
            "\n",
            "[5 rows x 23 columns]\n"
          ]
        }
      ]
    },
    {
      "cell_type": "code",
      "source": [
        "movies_cleaned = movies_merge.drop(columns = ['homepage',\n",
        "                                              'title_x',\n",
        "                                              'title_y',\n",
        "                                              'status',\n",
        "                                              'production_countries'])\n",
        "print(movies_cleaned.head())\n",
        "print(movies_cleaned.info())\n",
        "print(movies_cleaned.head(1)['overview'])"
      ],
      "metadata": {
        "id": "HiFXUNJ7TrSG",
        "outputId": "55398cbb-4ce5-4a77-9eca-ee959743c43b",
        "colab": {
          "base_uri": "https://localhost:8080/"
        }
      },
      "execution_count": 30,
      "outputs": [
        {
          "output_type": "stream",
          "name": "stdout",
          "text": [
            "      budget                                             genres      id  \\\n",
            "0  237000000  [{\"id\": 28, \"name\": \"Action\"}, {\"id\": 12, \"nam...   19995   \n",
            "1  300000000  [{\"id\": 12, \"name\": \"Adventure\"}, {\"id\": 14, \"...     285   \n",
            "2  245000000  [{\"id\": 28, \"name\": \"Action\"}, {\"id\": 12, \"nam...  206647   \n",
            "3  250000000  [{\"id\": 28, \"name\": \"Action\"}, {\"id\": 80, \"nam...   49026   \n",
            "4  260000000  [{\"id\": 28, \"name\": \"Action\"}, {\"id\": 12, \"nam...   49529   \n",
            "\n",
            "                                            keywords original_language  \\\n",
            "0  [{\"id\": 1463, \"name\": \"culture clash\"}, {\"id\":...                en   \n",
            "1  [{\"id\": 270, \"name\": \"ocean\"}, {\"id\": 726, \"na...                en   \n",
            "2  [{\"id\": 470, \"name\": \"spy\"}, {\"id\": 818, \"name...                en   \n",
            "3  [{\"id\": 849, \"name\": \"dc comics\"}, {\"id\": 853,...                en   \n",
            "4  [{\"id\": 818, \"name\": \"based on novel\"}, {\"id\":...                en   \n",
            "\n",
            "                             original_title  \\\n",
            "0                                    Avatar   \n",
            "1  Pirates of the Caribbean: At World's End   \n",
            "2                                   Spectre   \n",
            "3                     The Dark Knight Rises   \n",
            "4                               John Carter   \n",
            "\n",
            "                                            overview  popularity  \\\n",
            "0  In the 22nd century, a paraplegic Marine is di...  150.437577   \n",
            "1  Captain Barbossa, long believed to be dead, ha...  139.082615   \n",
            "2  A cryptic message from Bond’s past sends him o...  107.376788   \n",
            "3  Following the death of District Attorney Harve...  112.312950   \n",
            "4  John Carter is a war-weary, former military ca...   43.926995   \n",
            "\n",
            "                                production_companies release_date     revenue  \\\n",
            "0  [{\"name\": \"Ingenious Film Partners\", \"id\": 289...   2009-12-10  2787965087   \n",
            "1  [{\"name\": \"Walt Disney Pictures\", \"id\": 2}, {\"...   2007-05-19   961000000   \n",
            "2  [{\"name\": \"Columbia Pictures\", \"id\": 5}, {\"nam...   2015-10-26   880674609   \n",
            "3  [{\"name\": \"Legendary Pictures\", \"id\": 923}, {\"...   2012-07-16  1084939099   \n",
            "4        [{\"name\": \"Walt Disney Pictures\", \"id\": 2}]   2012-03-07   284139100   \n",
            "\n",
            "   runtime                                   spoken_languages  \\\n",
            "0    162.0  [{\"iso_639_1\": \"en\", \"name\": \"English\"}, {\"iso...   \n",
            "1    169.0           [{\"iso_639_1\": \"en\", \"name\": \"English\"}]   \n",
            "2    148.0  [{\"iso_639_1\": \"fr\", \"name\": \"Fran\\u00e7ais\"},...   \n",
            "3    165.0           [{\"iso_639_1\": \"en\", \"name\": \"English\"}]   \n",
            "4    132.0           [{\"iso_639_1\": \"en\", \"name\": \"English\"}]   \n",
            "\n",
            "                                          tagline  vote_average  vote_count  \\\n",
            "0                     Enter the World of Pandora.           7.2       11800   \n",
            "1  At the end of the world, the adventure begins.           6.9        4500   \n",
            "2                           A Plan No One Escapes           6.3        4466   \n",
            "3                                 The Legend Ends           7.6        9106   \n",
            "4            Lost in our world, found in another.           6.1        2124   \n",
            "\n",
            "                                                cast  \\\n",
            "0  [{\"cast_id\": 242, \"character\": \"Jake Sully\", \"...   \n",
            "1  [{\"cast_id\": 4, \"character\": \"Captain Jack Spa...   \n",
            "2  [{\"cast_id\": 1, \"character\": \"James Bond\", \"cr...   \n",
            "3  [{\"cast_id\": 2, \"character\": \"Bruce Wayne / Ba...   \n",
            "4  [{\"cast_id\": 5, \"character\": \"John Carter\", \"c...   \n",
            "\n",
            "                                                crew  \n",
            "0  [{\"credit_id\": \"52fe48009251416c750aca23\", \"de...  \n",
            "1  [{\"credit_id\": \"52fe4232c3a36847f800b579\", \"de...  \n",
            "2  [{\"credit_id\": \"54805967c3a36829b5002c41\", \"de...  \n",
            "3  [{\"credit_id\": \"52fe4781c3a36847f81398c3\", \"de...  \n",
            "4  [{\"credit_id\": \"52fe479ac3a36847f813eaa3\", \"de...  \n",
            "<class 'pandas.core.frame.DataFrame'>\n",
            "Int64Index: 1154 entries, 0 to 1153\n",
            "Data columns (total 18 columns):\n",
            " #   Column                Non-Null Count  Dtype  \n",
            "---  ------                --------------  -----  \n",
            " 0   budget                1154 non-null   int64  \n",
            " 1   genres                1154 non-null   object \n",
            " 2   id                    1154 non-null   int64  \n",
            " 3   keywords              1154 non-null   object \n",
            " 4   original_language     1154 non-null   object \n",
            " 5   original_title        1154 non-null   object \n",
            " 6   overview              1154 non-null   object \n",
            " 7   popularity            1154 non-null   float64\n",
            " 8   production_companies  1154 non-null   object \n",
            " 9   release_date          1154 non-null   object \n",
            " 10  revenue               1154 non-null   int64  \n",
            " 11  runtime               1154 non-null   float64\n",
            " 12  spoken_languages      1154 non-null   object \n",
            " 13  tagline               1109 non-null   object \n",
            " 14  vote_average          1154 non-null   float64\n",
            " 15  vote_count            1154 non-null   int64  \n",
            " 16  cast                  1154 non-null   object \n",
            " 17  crew                  1154 non-null   object \n",
            "dtypes: float64(3), int64(4), object(11)\n",
            "memory usage: 171.3+ KB\n",
            "None\n",
            "0    In the 22nd century, a paraplegic Marine is di...\n",
            "Name: overview, dtype: object\n"
          ]
        }
      ]
    },
    {
      "cell_type": "code",
      "source": [
        "tfv = TfidfVectorizer(min_df = 3,\n",
        "                      max_features = None,\n",
        "                      strip_accents = 'unicode',\n",
        "                      analyzer = 'word',\n",
        "                      token_pattern = r'\\w{1,}',\n",
        "                      ngram_range = (1, 3),\n",
        "                      stop_words = 'english')"
      ],
      "metadata": {
        "id": "UCuGOQy4cJve"
      },
      "execution_count": 33,
      "outputs": []
    },
    {
      "cell_type": "code",
      "source": [
        "# Fitting the TF_IDF on the 'overview' text:\n",
        "tfv_matrix = tfv.fit_transform(movies_cleaned['overview'])\n",
        "print(tfv_matrix)\n",
        "print(tfv_matrix.shape)"
      ],
      "metadata": {
        "id": "f4dQxdWwdZz3",
        "outputId": "45bb6ffe-9cc6-4b91-b830-d2f411a9c5e4",
        "colab": {
          "base_uri": "https://localhost:8080/"
        }
      },
      "execution_count": 34,
      "outputs": [
        {
          "output_type": "stream",
          "name": "stdout",
          "text": [
            "  (0, 23)\t0.3055248847504639\n",
            "  (0, 502)\t0.2869398510888036\n",
            "  (0, 103)\t0.21633149942688157\n",
            "  (0, 2076)\t0.279874149216392\n",
            "  (0, 1898)\t0.2869398510888036\n",
            "  (0, 1057)\t0.24810282432163674\n",
            "  (0, 2766)\t0.25915680863305984\n",
            "  (0, 1743)\t0.18295171711647473\n",
            "  (0, 2864)\t0.25915680863305984\n",
            "  (0, 1760)\t0.279874149216392\n",
            "  (0, 771)\t0.2869398510888036\n",
            "  (0, 1670)\t0.2737535598557087\n",
            "  (0, 439)\t0.24198223496095347\n",
            "  (0, 22)\t0.3055248847504639\n",
            "  (1, 848)\t0.4135338272151473\n",
            "  (1, 828)\t0.25219555187214754\n",
            "  (1, 1233)\t0.4135338272151473\n",
            "  (1, 1568)\t0.1987330147207551\n",
            "  (1, 540)\t0.2951725221227923\n",
            "  (1, 688)\t0.32195702092930417\n",
            "  (1, 275)\t0.4135338272151473\n",
            "  (1, 1600)\t0.30721644753756894\n",
            "  (1, 398)\t0.3141764264592021\n",
            "  (2, 2374)\t0.23511634966680003\n",
            "  (2, 321)\t0.24196397274578993\n",
            "  :\t:\n",
            "  (1152, 2411)\t0.21647363600781597\n",
            "  (1152, 955)\t0.19013751732895173\n",
            "  (1152, 1232)\t0.1596658687695317\n",
            "  (1152, 203)\t0.14894079762998041\n",
            "  (1152, 780)\t0.21647363600781597\n",
            "  (1152, 975)\t0.11959145944772114\n",
            "  (1152, 2409)\t0.12694130192210595\n",
            "  (1152, 1931)\t0.16762657120300656\n",
            "  (1152, 2753)\t0.11798735906987948\n",
            "  (1152, 1033)\t0.11721407419618916\n",
            "  (1152, 954)\t0.2884516084008184\n",
            "  (1152, 225)\t0.19829931285286057\n",
            "  (1152, 2723)\t0.3020735568321118\n",
            "  (1152, 816)\t0.1939626898818708\n",
            "  (1152, 329)\t0.21647363600781597\n",
            "  (1153, 918)\t0.3951687096426774\n",
            "  (1153, 2794)\t0.3711306553390406\n",
            "  (1153, 2830)\t0.29410248619758433\n",
            "  (1153, 2956)\t0.3093879201511487\n",
            "  (1153, 49)\t0.3129820591343042\n",
            "  (1153, 1315)\t0.24909883381578252\n",
            "  (1153, 3027)\t0.24909883381578252\n",
            "  (1153, 692)\t0.32089848598080917\n",
            "  (1153, 428)\t0.3351958114517709\n",
            "  (1153, 675)\t0.29410248619758433\n",
            "(1154, 3093)\n"
          ]
        }
      ]
    },
    {
      "cell_type": "code",
      "source": [
        "# Computing the Sigmoid Kernel\n",
        "sigmoid = sigmoid_kernel(tfv_matrix, tfv_matrix)\n",
        "print(sigmoid[0])"
      ],
      "metadata": {
        "id": "BNSLLlx-eL_p",
        "outputId": "b2435c7f-f978-44c9-c874-5b77d33cf2db",
        "colab": {
          "base_uri": "https://localhost:8080/"
        }
      },
      "execution_count": 35,
      "outputs": [
        {
          "output_type": "stream",
          "name": "stdout",
          "text": [
            "[0.7617299  0.76159416 0.76159416 ... 0.76159416 0.76159416 0.76159416]\n"
          ]
        }
      ]
    },
    {
      "cell_type": "code",
      "source": [
        "# Reverse mapping of indexes and movie titles:\n",
        "indexes = pd.Series(movies_cleaned.index,\n",
        "                    index = movies_cleaned['original_title']).drop_duplicates()\n",
        "print(indexes)\n",
        "# print(indexes['Newlyweds'])\n",
        "# print(sigmoid[4799])\n",
        "print(list(enumerate(sigmoid[indexes['Newlyweds']])))\n",
        "print(sorted(list(enumerate(sigmoid[indexes['Newlyweds']])),\n",
        "             key = lambda x : x[1], reverse = True))\n"
      ],
      "metadata": {
        "id": "OGjHciiUVb_o",
        "outputId": "ddf27493-bee7-4939-9208-6d28bcc9eca1",
        "colab": {
          "base_uri": "https://localhost:8080/",
          "height": 737
        }
      },
      "execution_count": 45,
      "outputs": [
        {
          "output_type": "stream",
          "name": "stdout",
          "text": [
            "original_title\n",
            "Avatar                                         0\n",
            "Pirates of the Caribbean: At World's End       1\n",
            "Spectre                                        2\n",
            "The Dark Knight Rises                          3\n",
            "John Carter                                    4\n",
            "                                            ... \n",
            "American Hustle                             1149\n",
            "The Proposal                                1150\n",
            "Double Jeopardy                             1151\n",
            "Back to the Future Part II                  1152\n",
            "Lucy                                        1153\n",
            "Length: 1154, dtype: int64\n"
          ]
        },
        {
          "output_type": "error",
          "ename": "KeyError",
          "evalue": "ignored",
          "traceback": [
            "\u001b[0;31m---------------------------------------------------------------------------\u001b[0m",
            "\u001b[0;31mKeyError\u001b[0m                                  Traceback (most recent call last)",
            "\u001b[0;32m/usr/local/lib/python3.10/dist-packages/pandas/core/indexes/base.py\u001b[0m in \u001b[0;36mget_loc\u001b[0;34m(self, key, method, tolerance)\u001b[0m\n\u001b[1;32m   3801\u001b[0m             \u001b[0;32mtry\u001b[0m\u001b[0;34m:\u001b[0m\u001b[0;34m\u001b[0m\u001b[0;34m\u001b[0m\u001b[0m\n\u001b[0;32m-> 3802\u001b[0;31m                 \u001b[0;32mreturn\u001b[0m \u001b[0mself\u001b[0m\u001b[0;34m.\u001b[0m\u001b[0m_engine\u001b[0m\u001b[0;34m.\u001b[0m\u001b[0mget_loc\u001b[0m\u001b[0;34m(\u001b[0m\u001b[0mcasted_key\u001b[0m\u001b[0;34m)\u001b[0m\u001b[0;34m\u001b[0m\u001b[0;34m\u001b[0m\u001b[0m\n\u001b[0m\u001b[1;32m   3803\u001b[0m             \u001b[0;32mexcept\u001b[0m \u001b[0mKeyError\u001b[0m \u001b[0;32mas\u001b[0m \u001b[0merr\u001b[0m\u001b[0;34m:\u001b[0m\u001b[0;34m\u001b[0m\u001b[0;34m\u001b[0m\u001b[0m\n",
            "\u001b[0;32m/usr/local/lib/python3.10/dist-packages/pandas/_libs/index.pyx\u001b[0m in \u001b[0;36mpandas._libs.index.IndexEngine.get_loc\u001b[0;34m()\u001b[0m\n",
            "\u001b[0;32m/usr/local/lib/python3.10/dist-packages/pandas/_libs/index.pyx\u001b[0m in \u001b[0;36mpandas._libs.index.IndexEngine.get_loc\u001b[0;34m()\u001b[0m\n",
            "\u001b[0;32mpandas/_libs/hashtable_class_helper.pxi\u001b[0m in \u001b[0;36mpandas._libs.hashtable.PyObjectHashTable.get_item\u001b[0;34m()\u001b[0m\n",
            "\u001b[0;32mpandas/_libs/hashtable_class_helper.pxi\u001b[0m in \u001b[0;36mpandas._libs.hashtable.PyObjectHashTable.get_item\u001b[0;34m()\u001b[0m\n",
            "\u001b[0;31mKeyError\u001b[0m: 'Newlyweds'",
            "\nThe above exception was the direct cause of the following exception:\n",
            "\u001b[0;31mKeyError\u001b[0m                                  Traceback (most recent call last)",
            "\u001b[0;32m<ipython-input-45-fe1fadea14db>\u001b[0m in \u001b[0;36m<cell line: 7>\u001b[0;34m()\u001b[0m\n\u001b[1;32m      5\u001b[0m \u001b[0;31m# print(indexes['Newlyweds'])\u001b[0m\u001b[0;34m\u001b[0m\u001b[0;34m\u001b[0m\u001b[0m\n\u001b[1;32m      6\u001b[0m \u001b[0;31m# print(sigmoid[4799])\u001b[0m\u001b[0;34m\u001b[0m\u001b[0;34m\u001b[0m\u001b[0m\n\u001b[0;32m----> 7\u001b[0;31m \u001b[0mprint\u001b[0m\u001b[0;34m(\u001b[0m\u001b[0mlist\u001b[0m\u001b[0;34m(\u001b[0m\u001b[0menumerate\u001b[0m\u001b[0;34m(\u001b[0m\u001b[0msigmoid\u001b[0m\u001b[0;34m[\u001b[0m\u001b[0mindexes\u001b[0m\u001b[0;34m[\u001b[0m\u001b[0;34m'Newlyweds'\u001b[0m\u001b[0;34m]\u001b[0m\u001b[0;34m]\u001b[0m\u001b[0;34m)\u001b[0m\u001b[0;34m)\u001b[0m\u001b[0;34m)\u001b[0m\u001b[0;34m\u001b[0m\u001b[0;34m\u001b[0m\u001b[0m\n\u001b[0m\u001b[1;32m      8\u001b[0m print(sorted(list(enumerate(sigmoid[indexes['Newlyweds']])),\n\u001b[1;32m      9\u001b[0m              key = lambda x : x[1], reverse = True))\n",
            "\u001b[0;32m/usr/local/lib/python3.10/dist-packages/pandas/core/series.py\u001b[0m in \u001b[0;36m__getitem__\u001b[0;34m(self, key)\u001b[0m\n\u001b[1;32m    979\u001b[0m \u001b[0;34m\u001b[0m\u001b[0m\n\u001b[1;32m    980\u001b[0m         \u001b[0;32melif\u001b[0m \u001b[0mkey_is_scalar\u001b[0m\u001b[0;34m:\u001b[0m\u001b[0;34m\u001b[0m\u001b[0;34m\u001b[0m\u001b[0m\n\u001b[0;32m--> 981\u001b[0;31m             \u001b[0;32mreturn\u001b[0m \u001b[0mself\u001b[0m\u001b[0;34m.\u001b[0m\u001b[0m_get_value\u001b[0m\u001b[0;34m(\u001b[0m\u001b[0mkey\u001b[0m\u001b[0;34m)\u001b[0m\u001b[0;34m\u001b[0m\u001b[0;34m\u001b[0m\u001b[0m\n\u001b[0m\u001b[1;32m    982\u001b[0m \u001b[0;34m\u001b[0m\u001b[0m\n\u001b[1;32m    983\u001b[0m         \u001b[0;32mif\u001b[0m \u001b[0mis_hashable\u001b[0m\u001b[0;34m(\u001b[0m\u001b[0mkey\u001b[0m\u001b[0;34m)\u001b[0m\u001b[0;34m:\u001b[0m\u001b[0;34m\u001b[0m\u001b[0;34m\u001b[0m\u001b[0m\n",
            "\u001b[0;32m/usr/local/lib/python3.10/dist-packages/pandas/core/series.py\u001b[0m in \u001b[0;36m_get_value\u001b[0;34m(self, label, takeable)\u001b[0m\n\u001b[1;32m   1087\u001b[0m \u001b[0;34m\u001b[0m\u001b[0m\n\u001b[1;32m   1088\u001b[0m         \u001b[0;31m# Similar to Index.get_value, but we do not fall back to positional\u001b[0m\u001b[0;34m\u001b[0m\u001b[0;34m\u001b[0m\u001b[0m\n\u001b[0;32m-> 1089\u001b[0;31m         \u001b[0mloc\u001b[0m \u001b[0;34m=\u001b[0m \u001b[0mself\u001b[0m\u001b[0;34m.\u001b[0m\u001b[0mindex\u001b[0m\u001b[0;34m.\u001b[0m\u001b[0mget_loc\u001b[0m\u001b[0;34m(\u001b[0m\u001b[0mlabel\u001b[0m\u001b[0;34m)\u001b[0m\u001b[0;34m\u001b[0m\u001b[0;34m\u001b[0m\u001b[0m\n\u001b[0m\u001b[1;32m   1090\u001b[0m         \u001b[0;32mreturn\u001b[0m \u001b[0mself\u001b[0m\u001b[0;34m.\u001b[0m\u001b[0mindex\u001b[0m\u001b[0;34m.\u001b[0m\u001b[0m_get_values_for_loc\u001b[0m\u001b[0;34m(\u001b[0m\u001b[0mself\u001b[0m\u001b[0;34m,\u001b[0m \u001b[0mloc\u001b[0m\u001b[0;34m,\u001b[0m \u001b[0mlabel\u001b[0m\u001b[0;34m)\u001b[0m\u001b[0;34m\u001b[0m\u001b[0;34m\u001b[0m\u001b[0m\n\u001b[1;32m   1091\u001b[0m \u001b[0;34m\u001b[0m\u001b[0m\n",
            "\u001b[0;32m/usr/local/lib/python3.10/dist-packages/pandas/core/indexes/base.py\u001b[0m in \u001b[0;36mget_loc\u001b[0;34m(self, key, method, tolerance)\u001b[0m\n\u001b[1;32m   3802\u001b[0m                 \u001b[0;32mreturn\u001b[0m \u001b[0mself\u001b[0m\u001b[0;34m.\u001b[0m\u001b[0m_engine\u001b[0m\u001b[0;34m.\u001b[0m\u001b[0mget_loc\u001b[0m\u001b[0;34m(\u001b[0m\u001b[0mcasted_key\u001b[0m\u001b[0;34m)\u001b[0m\u001b[0;34m\u001b[0m\u001b[0;34m\u001b[0m\u001b[0m\n\u001b[1;32m   3803\u001b[0m             \u001b[0;32mexcept\u001b[0m \u001b[0mKeyError\u001b[0m \u001b[0;32mas\u001b[0m \u001b[0merr\u001b[0m\u001b[0;34m:\u001b[0m\u001b[0;34m\u001b[0m\u001b[0;34m\u001b[0m\u001b[0m\n\u001b[0;32m-> 3804\u001b[0;31m                 \u001b[0;32mraise\u001b[0m \u001b[0mKeyError\u001b[0m\u001b[0;34m(\u001b[0m\u001b[0mkey\u001b[0m\u001b[0;34m)\u001b[0m \u001b[0;32mfrom\u001b[0m \u001b[0merr\u001b[0m\u001b[0;34m\u001b[0m\u001b[0;34m\u001b[0m\u001b[0m\n\u001b[0m\u001b[1;32m   3805\u001b[0m             \u001b[0;32mexcept\u001b[0m \u001b[0mTypeError\u001b[0m\u001b[0;34m:\u001b[0m\u001b[0;34m\u001b[0m\u001b[0;34m\u001b[0m\u001b[0m\n\u001b[1;32m   3806\u001b[0m                 \u001b[0;31m# If we have a listlike key, _check_indexing_error will raise\u001b[0m\u001b[0;34m\u001b[0m\u001b[0;34m\u001b[0m\u001b[0m\n",
            "\u001b[0;31mKeyError\u001b[0m: 'Newlyweds'"
          ]
        }
      ]
    },
    {
      "cell_type": "code",
      "source": [
        "def give_recommendations(title, sigmoid = sigmoid):\n",
        "  # Getting the index corresponding to original_title:\n",
        "  index = indexes[title]\n",
        "\n",
        "  # Getting the pairwise similarity scores:\n",
        "  sigmoid_scores = list(enumerate(sigmoid[index]))\n",
        "\n",
        "  # Sorting the movies:\n",
        "  sigmoid_scores = sorted(sigmoid_scores, key = lambda x : x[1], reverse = True)\n",
        "\n",
        "  # Scores of the 10 most similar movies:\n",
        "  sigmoid_scores = sigmoid_scores[1:11]\n",
        "\n",
        "  # Movie indexes:\n",
        "  movie_indexes = [i[0] for i in sigmoid_scores]\n",
        "\n",
        "  # Top 10 most similar movies:\n",
        "  return movies_cleaned['original_title'].iloc[movie_indexes]"
      ],
      "metadata": {
        "id": "T8XOzaTyXJTH"
      },
      "execution_count": 43,
      "outputs": []
    }
  ]
}